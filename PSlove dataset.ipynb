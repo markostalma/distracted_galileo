{
 "cells": [
  {
   "cell_type": "code",
   "execution_count": null,
   "metadata": {},
   "outputs": [],
   "source": [
    "import numpy as np\n",
    "import pandas as pd\n",
    "import seaborn as sns\n",
    "import pandas_profiling\n",
    "import matplotlib.pyplot as plt\n",
    "%matplotlib inline"
   ]
  },
  {
   "cell_type": "code",
   "execution_count": null,
   "metadata": {},
   "outputs": [],
   "source": [
    "#  Importing data"
   ]
  },
  {
   "cell_type": "code",
   "execution_count": null,
   "metadata": {},
   "outputs": [],
   "source": [
    "period = pd.read_csv('data/Period.csv')\n",
    "symptom = pd.read_csv('data/Symptom.csv')\n",
    "user = pd.read_csv('data/User.csv')"
   ]
  },
  {
   "cell_type": "code",
   "execution_count": null,
   "metadata": {},
   "outputs": [],
   "source": [
    "period.head()\n"
   ]
  },
  {
   "cell_type": "code",
   "execution_count": null,
   "metadata": {},
   "outputs": [],
   "source": [
    "symptom.head()"
   ]
  },
  {
   "cell_type": "code",
   "execution_count": null,
   "metadata": {},
   "outputs": [],
   "source": [
    "user.head()"
   ]
  },
  {
   "cell_type": "code",
   "execution_count": null,
   "metadata": {},
   "outputs": [],
   "source": [
    "pandas_profiling.ProfileReport(period)"
   ]
  },
  {
   "cell_type": "code",
   "execution_count": null,
   "metadata": {},
   "outputs": [],
   "source": [
    "pandas_profiling.ProfileReport(symptom)"
   ]
  },
  {
   "cell_type": "code",
   "execution_count": null,
   "metadata": {},
   "outputs": [],
   "source": [
    "pandas_profiling.ProfileReport(user)"
   ]
  },
  {
   "cell_type": "code",
   "execution_count": null,
   "metadata": {},
   "outputs": [],
   "source": [
    "merged = pd.merge(user, symptom, how=\"left\", on=\"id\")\n",
    "print (merged)"
   ]
  },
  {
   "cell_type": "code",
   "execution_count": null,
   "metadata": {},
   "outputs": [],
   "source": [
    "merged.head(20)"
   ]
  },
  {
   "cell_type": "code",
   "execution_count": null,
   "metadata": {},
   "outputs": [],
   "source": [
    "merged = pd.merge(merged, period, how=\"left\", on=\"id\")"
   ]
  },
  {
   "cell_type": "code",
   "execution_count": null,
   "metadata": {},
   "outputs": [],
   "source": [
    "merged.head(250)"
   ]
  },
  {
   "cell_type": "code",
   "execution_count": null,
   "metadata": {},
   "outputs": [],
   "source": [
    "merged.info()"
   ]
  },
  {
   "cell_type": "code",
   "execution_count": null,
   "metadata": {},
   "outputs": [],
   "source": [
    "merged.describe()"
   ]
  },
  {
   "cell_type": "code",
   "execution_count": null,
   "metadata": {},
   "outputs": [],
   "source": [
    "fig, axes = plt.subplots(2, 1, figsize=(15, 15))\n",
    "sns.countplot(x='period_length_initial', data=merged, saturation=0.75, dodge=True, ax=axes[0])\n",
    "sns.countplot(x='cycle_length_initial', data=merged, saturation=0.75, dodge=True, ax=axes[1])"
   ]
  },
  {
   "cell_type": "code",
   "execution_count": null,
   "metadata": {},
   "outputs": [],
   "source": [
    "pd.pivot_table(merged,\"period_length_initial\",\"cycle_length_initial\")\n",
    "merged.pivot_table(['period_length_initial','cycle_length_initial'],\n",
    "               ['acne', 'backache', 'bloating', 'cramp', 'diarrhea', 'dizzy', 'headache', 'mood', 'nausea','sore']).round(1)"
   ]
  },
  {
   "cell_type": "code",
   "execution_count": null,
   "metadata": {},
   "outputs": [],
   "source": [
    "#symptom.plot(kind=\"hist\", bins=100)\n",
    "#symptom.plot.bar()\n",
    "#sns.countplot(x='acne', y='period', data=merged, saturation=0.75, dodge=True)\n",
    "plt.figure()\n",
    "symptom.plot.hist(alpha=0.5)"
   ]
  },
  {
   "cell_type": "code",
   "execution_count": null,
   "metadata": {},
   "outputs": [],
   "source": []
  },
  {
   "cell_type": "code",
   "execution_count": null,
   "metadata": {},
   "outputs": [],
   "source": [
    "fig, axes = plt.subplots(5, 2, figsize=(20, 70))\n",
    "ax = sns.countplot(x=\"acne\", data=symptom, order=[10,20,30,40,50,60,70,80,90,100], ax=axes[0, 0])\n",
    "ax = sns.countplot(x=\"backache\", data=symptom, order=[10,20,30,40,50,60,70,80,90,100], ax=axes[0, 1])\n",
    "ax = sns.countplot(x=\"bloating\", data=symptom, order=[10,20,30,40,50,60,70,80,90,100], ax=axes[1, 0])\n",
    "ax = sns.countplot(x=\"cramp\", data=symptom, order=[10,20,30,40,50,60,70,80,90,100], ax=axes[1, 1])\n",
    "ax = sns.countplot(x=\"diarrhea\", data=symptom, order=[10,20,30,40,50,60,70,80,90,100], ax=axes[2, 0])\n",
    "ax = sns.countplot(x=\"dizzy\", data=symptom, order=[10,20,30,40,50,60,70,80,90,100], ax=axes[2, 1])\n",
    "ax = sns.countplot(x=\"headache\", data=symptom, order=[10,20,30,40,50,60,70,80,90,100], ax=axes[3, 0])\n",
    "ax = sns.countplot(x=\"mood\", data=symptom, order=[10,20,30,40,50,60,70,80,90,100], ax=axes[3, 1])\n",
    "ax = sns.countplot(x=\"nausea\", data=symptom, order=[10,20,30,40,50,60,70,80,90,100], ax=axes[4, 0])\n",
    "ax = sns.countplot(x=\"sore\", data=symptom, order=[10,20,30,40,50,60,70,80,90,100], ax=axes[4, 1])"
   ]
  },
  {
   "cell_type": "code",
   "execution_count": null,
   "metadata": {},
   "outputs": [],
   "source": [
    "sns.lmplot(x='period_length_initial', y='cramp', data=merged)"
   ]
  },
  {
   "cell_type": "code",
   "execution_count": null,
   "metadata": {},
   "outputs": [],
   "source": [
    "sns.lmplot(x='cycle_length_initial', y='cramp', data=merged)"
   ]
  },
  {
   "cell_type": "code",
   "execution_count": null,
   "metadata": {},
   "outputs": [],
   "source": [
    "sns.lmplot(x='mood', y='cramp', data=merged)"
   ]
  },
  {
   "cell_type": "code",
   "execution_count": null,
   "metadata": {},
   "outputs": [],
   "source": []
  }
 ],
 "metadata": {
  "kernelspec": {
   "display_name": "Python 3",
   "language": "python",
   "name": "python3"
  },
  "language_info": {
   "codemirror_mode": {
    "name": "ipython",
    "version": 3
   },
   "file_extension": ".py",
   "mimetype": "text/x-python",
   "name": "python",
   "nbconvert_exporter": "python",
   "pygments_lexer": "ipython3",
   "version": "3.6.5"
  }
 },
 "nbformat": 4,
 "nbformat_minor": 2
}
